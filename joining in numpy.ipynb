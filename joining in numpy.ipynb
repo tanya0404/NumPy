{
 "cells": [
  {
   "cell_type": "markdown",
   "id": "0aa55193-7197-4e92-85db-8bd9f6fc060d",
   "metadata": {},
   "source": [
    "                                    #METHOD 1"
   ]
  },
  {
   "cell_type": "code",
   "execution_count": 35,
   "id": "6f1b5403-a7fe-4cf7-8a90-4ea3aec721c1",
   "metadata": {},
   "outputs": [],
   "source": [
    "import numpy as np"
   ]
  },
  {
   "cell_type": "code",
   "execution_count": 2,
   "id": "d8317f67-e1d4-4abc-9bab-00c11eb9a4b6",
   "metadata": {},
   "outputs": [
    {
     "name": "stdout",
     "output_type": "stream",
     "text": [
      "[1 2 3]\n",
      "[4 5]\n"
     ]
    }
   ],
   "source": [
    "ar1=np.array([1,2,3])\n",
    "ar2=np.array([4,5])\n",
    "print(ar1)\n",
    "print(ar2)"
   ]
  },
  {
   "cell_type": "code",
   "execution_count": 3,
   "id": "802b93b1-5d98-40f5-80ad-861ee44fb7a8",
   "metadata": {},
   "outputs": [
    {
     "name": "stdout",
     "output_type": "stream",
     "text": [
      "[1 2 3 4 5]\n"
     ]
    }
   ],
   "source": [
    "final=np.concatenate((ar1,ar2))\n",
    "print(final)"
   ]
  },
  {
   "cell_type": "markdown",
   "id": "0cb150fd-071d-4d37-b255-2096bf919ecc",
   "metadata": {},
   "source": [
    "                                   #METHOD 2"
   ]
  },
  {
   "cell_type": "code",
   "execution_count": 4,
   "id": "56aba2a6-6d13-4460-a344-572ce99397ce",
   "metadata": {},
   "outputs": [],
   "source": [
    "import numpy as np"
   ]
  },
  {
   "cell_type": "code",
   "execution_count": 24,
   "id": "268e6a37-42db-4eb1-90de-bf5eb6a61c1f",
   "metadata": {},
   "outputs": [
    {
     "name": "stdout",
     "output_type": "stream",
     "text": [
      "[1 2 3]\n",
      "[4 5]\n"
     ]
    }
   ],
   "source": [
    "ar1=np.array([1,2,3])\n",
    "ar2=np.array([4,5])\n",
    "print(ar1)\n",
    "print(ar2)"
   ]
  },
  {
   "cell_type": "code",
   "execution_count": 25,
   "id": "ecfe5403-82fa-47dd-adae-30679e048859",
   "metadata": {},
   "outputs": [
    {
     "name": "stdout",
     "output_type": "stream",
     "text": [
      "[1 2 3 4 5]\n"
     ]
    }
   ],
   "source": [
    "final=np.hstack((ar1,ar2))\n",
    "print(final)     #joing alog rows(horiz.)"
   ]
  },
  {
   "cell_type": "raw",
   "id": "43faccce-e846-4ad7-9fee-c3aa028d350a",
   "metadata": {},
   "source": [
    "\n",
    "\n",
    "\n"
   ]
  },
  {
   "cell_type": "code",
   "execution_count": 38,
   "id": "4770d572-45d2-4dd7-8d54-a96596b47fdb",
   "metadata": {},
   "outputs": [
    {
     "name": "stdout",
     "output_type": "stream",
     "text": [
      "[1 2 3]\n",
      "[4 5 6]\n"
     ]
    }
   ],
   "source": [
    "ar1=np.array([1,2,3])\n",
    "ar2=np.array([4,5,6])\n",
    "print(ar1)\n",
    "print(ar2)\n"
   ]
  },
  {
   "cell_type": "code",
   "execution_count": 44,
   "id": "78e0a8ca-c5b8-4c49-b6c0-fc126dcdceff",
   "metadata": {},
   "outputs": [
    {
     "name": "stdout",
     "output_type": "stream",
     "text": [
      "[[1 4]\n",
      " [2 5]\n",
      " [3 6]]\n"
     ]
    }
   ],
   "source": [
    "final=np.stack((ar1,ar2),axis=1)     #by default axis=0;\n",
    "print(final)                         #that will print [[1 2 3] [4 5 6]]"
   ]
  },
  {
   "cell_type": "raw",
   "id": "a012b02f-a1f9-431f-aba0-f0c08d1c60cf",
   "metadata": {},
   "source": [
    "\n",
    "\n",
    "\n"
   ]
  },
  {
   "cell_type": "code",
   "execution_count": 36,
   "id": "5c76e3c2-0fe4-4ae0-b4c8-a5b90d0ac733",
   "metadata": {},
   "outputs": [
    {
     "name": "stdout",
     "output_type": "stream",
     "text": [
      "[1 2 3]\n",
      "[4 5 6]\n"
     ]
    }
   ],
   "source": [
    "ar1=np.array([1,2,3])\n",
    "ar2=np.array([4,5,6])\n",
    "print(ar1)\n",
    "print(ar2)"
   ]
  },
  {
   "cell_type": "code",
   "execution_count": 37,
   "id": "f11bcc86-762b-4d65-8af1-a9240bab9f5c",
   "metadata": {},
   "outputs": [
    {
     "name": "stdout",
     "output_type": "stream",
     "text": [
      "[[1 2 3]\n",
      " [4 5 6]]\n"
     ]
    }
   ],
   "source": [
    "final=np.vstack((ar1,ar2))\n",
    "print(final)            #joing alog column(vertical)"
   ]
  },
  {
   "cell_type": "raw",
   "id": "9ece12fd-d161-4faa-a89c-b4cb33718652",
   "metadata": {},
   "source": [
    "\n",
    "\n",
    "\n"
   ]
  },
  {
   "cell_type": "code",
   "execution_count": 39,
   "id": "33560ae0-23d9-40c0-9296-0b398181f5a3",
   "metadata": {},
   "outputs": [
    {
     "name": "stdout",
     "output_type": "stream",
     "text": [
      "[1 2 3]\n",
      "[4 5 6]\n"
     ]
    }
   ],
   "source": [
    "ar1=np.array([1,2,3])\n",
    "ar2=np.array([4,5,6])\n",
    "print(ar1)\n",
    "print(ar2)"
   ]
  },
  {
   "cell_type": "code",
   "execution_count": 40,
   "id": "4d22d791-1d90-48b2-83af-06afb4240931",
   "metadata": {},
   "outputs": [
    {
     "name": "stdout",
     "output_type": "stream",
     "text": [
      "[[[1 4]\n",
      "  [2 5]\n",
      "  [3 6]]]\n"
     ]
    }
   ],
   "source": [
    "final=np.dstack((ar1,ar2))\n",
    "print(final)    #joining along height(depth)"
   ]
  },
  {
   "cell_type": "raw",
   "id": "cd080179-762f-49e5-8ed8-fc6d6c484863",
   "metadata": {},
   "source": [
    "\n",
    "\n",
    "\n"
   ]
  },
  {
   "cell_type": "code",
   "execution_count": 41,
   "id": "991621e4-3d44-463a-bffc-9f9a643f9fce",
   "metadata": {},
   "outputs": [
    {
     "name": "stdout",
     "output_type": "stream",
     "text": [
      "[1 2 3]\n",
      "[4 5 6]\n"
     ]
    }
   ],
   "source": [
    "ar1=np.array([1,2,3])\n",
    "ar2=np.array([4,5,6])\n",
    "print(ar1)\n",
    "print(ar2)"
   ]
  },
  {
   "cell_type": "code",
   "execution_count": 42,
   "id": "4f1349de-538e-47d3-bef4-db49599a967b",
   "metadata": {},
   "outputs": [
    {
     "name": "stdout",
     "output_type": "stream",
     "text": [
      "[[1 4]\n",
      " [2 5]\n",
      " [3 6]]\n"
     ]
    }
   ],
   "source": [
    "final=np.column_stack((ar1,ar2))\n",
    "print(final)  "
   ]
  },
  {
   "cell_type": "code",
   "execution_count": null,
   "id": "aebd6444-8b59-41ca-bfb8-954b31e48c27",
   "metadata": {},
   "outputs": [],
   "source": []
  }
 ],
 "metadata": {
  "kernelspec": {
   "display_name": "Python 3 (ipykernel)",
   "language": "python",
   "name": "python3"
  },
  "language_info": {
   "codemirror_mode": {
    "name": "ipython",
    "version": 3
   },
   "file_extension": ".py",
   "mimetype": "text/x-python",
   "name": "python",
   "nbconvert_exporter": "python",
   "pygments_lexer": "ipython3",
   "version": "3.12.7"
  }
 },
 "nbformat": 4,
 "nbformat_minor": 5
}
