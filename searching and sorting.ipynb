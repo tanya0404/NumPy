{
 "cells": [
  {
   "cell_type": "markdown",
   "id": "3a935791-950a-4db8-a049-cbe210837401",
   "metadata": {},
   "source": [
    "                                        #SEARCHING"
   ]
  },
  {
   "cell_type": "code",
   "execution_count": 1,
   "id": "16788101-3f65-434a-92b3-bed4972abf9f",
   "metadata": {},
   "outputs": [],
   "source": [
    "import numpy as np"
   ]
  },
  {
   "cell_type": "code",
   "execution_count": 6,
   "id": "4be32571-0de5-4e05-a8f6-9194c5f98716",
   "metadata": {},
   "outputs": [
    {
     "data": {
      "text/plain": [
       "array([10, 20, 30, 40])"
      ]
     },
     "execution_count": 6,
     "metadata": {},
     "output_type": "execute_result"
    }
   ],
   "source": [
    "arr=np.array([10,20,30,40])\n",
    "arr"
   ]
  },
  {
   "cell_type": "code",
   "execution_count": 8,
   "id": "04e27c20-3a4d-4dfc-9a8a-0675bb148bd2",
   "metadata": {},
   "outputs": [
    {
     "name": "stdout",
     "output_type": "stream",
     "text": [
      "(array([2], dtype=int64),)\n"
     ]
    }
   ],
   "source": [
    "result=np.where(arr==30)\n",
    "print(result)"
   ]
  },
  {
   "cell_type": "markdown",
   "id": "b158468c-a0a2-4002-9854-b7ce395cfa5d",
   "metadata": {},
   "source": [
    "                                            #SORTING"
   ]
  },
  {
   "cell_type": "code",
   "execution_count": 11,
   "id": "9fdd535e-7c66-427a-980e-3e4b6256b544",
   "metadata": {},
   "outputs": [],
   "source": [
    "import numpy as np"
   ]
  },
  {
   "cell_type": "code",
   "execution_count": 12,
   "id": "7c84aeb0-61da-47c4-82e4-0d7950cc4f93",
   "metadata": {},
   "outputs": [
    {
     "data": {
      "text/plain": [
       "array([ 5, 10, 61, 12,  2, 10])"
      ]
     },
     "execution_count": 12,
     "metadata": {},
     "output_type": "execute_result"
    }
   ],
   "source": [
    "arr=np.array([5,10,61,12,2,10])\n",
    "arr"
   ]
  },
  {
   "cell_type": "code",
   "execution_count": 13,
   "id": "5cc42cd3-5b33-4954-89c4-85d7029ddaf0",
   "metadata": {},
   "outputs": [
    {
     "data": {
      "text/plain": [
       "array([ 2,  5, 10, 10, 12, 61])"
      ]
     },
     "execution_count": 13,
     "metadata": {},
     "output_type": "execute_result"
    }
   ],
   "source": [
    "result=np.sort(arr)\n",
    "result"
   ]
  },
  {
   "cell_type": "markdown",
   "id": "c8353afa-520e-4a82-be16-f162eb17e6b6",
   "metadata": {},
   "source": [
    "\n",
    "string\n"
   ]
  },
  {
   "cell_type": "code",
   "execution_count": 16,
   "id": "e5a82690-d201-44f1-80bf-ba13cb92633f",
   "metadata": {},
   "outputs": [
    {
     "data": {
      "text/plain": [
       "array(['disha', 'surya', 'aman', 'tanya', 'gaurav', 'sahil'], dtype='<U6')"
      ]
     },
     "execution_count": 16,
     "metadata": {},
     "output_type": "execute_result"
    }
   ],
   "source": [
    "arr=np.array([\"disha\",\"surya\",\"aman\",\"tanya\",\"gaurav\",\"sahil\"])\n",
    "arr"
   ]
  },
  {
   "cell_type": "code",
   "execution_count": 17,
   "id": "e9a6305b-9834-45c2-8f1b-ef1e62197910",
   "metadata": {},
   "outputs": [
    {
     "data": {
      "text/plain": [
       "array(['aman', 'disha', 'gaurav', 'sahil', 'surya', 'tanya'], dtype='<U6')"
      ]
     },
     "execution_count": 17,
     "metadata": {},
     "output_type": "execute_result"
    }
   ],
   "source": [
    "result=np.sort(arr)\n",
    "result"
   ]
  },
  {
   "cell_type": "code",
   "execution_count": null,
   "id": "c56eb823-1279-4204-83d3-f0df2112671d",
   "metadata": {},
   "outputs": [],
   "source": []
  }
 ],
 "metadata": {
  "kernelspec": {
   "display_name": "Python 3 (ipykernel)",
   "language": "python",
   "name": "python3"
  },
  "language_info": {
   "codemirror_mode": {
    "name": "ipython",
    "version": 3
   },
   "file_extension": ".py",
   "mimetype": "text/x-python",
   "name": "python",
   "nbconvert_exporter": "python",
   "pygments_lexer": "ipython3",
   "version": "3.12.7"
  }
 },
 "nbformat": 4,
 "nbformat_minor": 5
}
