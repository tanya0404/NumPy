{
 "cells": [
  {
   "cell_type": "markdown",
   "id": "e92f2d25-8c05-434b-bc54-131b3a377629",
   "metadata": {},
   "source": [
    "                #ITERATION OF ARRAY"
   ]
  },
  {
   "cell_type": "code",
   "execution_count": 1,
   "id": "50457d65-f576-48a7-8bb7-82f25291e751",
   "metadata": {},
   "outputs": [],
   "source": [
    "import numpy as np      #1d"
   ]
  },
  {
   "cell_type": "code",
   "execution_count": 2,
   "id": "6b38725f-23e4-4c61-ab2b-ba04cfec5433",
   "metadata": {},
   "outputs": [
    {
     "data": {
      "text/plain": [
       "array([ 5, 10, 15, 20, 25, 30])"
      ]
     },
     "execution_count": 2,
     "metadata": {},
     "output_type": "execute_result"
    }
   ],
   "source": [
    "arr=np.array([5,10,15,20,25,30])\n",
    "arr"
   ]
  },
  {
   "cell_type": "code",
   "execution_count": 6,
   "id": "88e9b8da-b641-47a9-8a1d-ebd0afb7599e",
   "metadata": {},
   "outputs": [
    {
     "name": "stdout",
     "output_type": "stream",
     "text": [
      "5\n",
      "10\n",
      "15\n",
      "20\n",
      "25\n",
      "30\n"
     ]
    }
   ],
   "source": [
    "for a in arr:\n",
    "    print(a)"
   ]
  },
  {
   "cell_type": "code",
   "execution_count": 8,
   "id": "70738da9-7db3-48d6-8f72-aa465f25bba0",
   "metadata": {},
   "outputs": [
    {
     "name": "stdout",
     "output_type": "stream",
     "text": [
      "<class 'numpy.ndarray'>\n",
      "<class 'numpy.dtypes.Int32DType'>\n",
      "1\n"
     ]
    }
   ],
   "source": [
    "print(type(arr))\n",
    "print(type(arr.dtype))\n",
    "print(arr.ndim)"
   ]
  },
  {
   "cell_type": "code",
   "execution_count": 10,
   "id": "cf1f296a-71e3-4835-8552-8c05403554ec",
   "metadata": {},
   "outputs": [],
   "source": [
    "import numpy as np      #2d"
   ]
  },
  {
   "cell_type": "code",
   "execution_count": 11,
   "id": "e1195721-5df8-4d27-b1d0-81effce41795",
   "metadata": {},
   "outputs": [
    {
     "data": {
      "text/plain": [
       "array([[1, 2, 3],\n",
       "       [4, 5, 6]])"
      ]
     },
     "execution_count": 11,
     "metadata": {},
     "output_type": "execute_result"
    }
   ],
   "source": [
    "arr=np.array([[1,2,3],[4,5,6]])\n",
    "arr"
   ]
  },
  {
   "cell_type": "code",
   "execution_count": 12,
   "id": "79eef82c-e6ef-4ff0-a5ca-848b29978b08",
   "metadata": {},
   "outputs": [
    {
     "name": "stdout",
     "output_type": "stream",
     "text": [
      "[1 2 3]\n",
      "[4 5 6]\n"
     ]
    }
   ],
   "source": [
    "for i in arr:\n",
    "    print(i)"
   ]
  },
  {
   "cell_type": "code",
   "execution_count": 15,
   "id": "a64a535b-0269-41df-bce4-a9cd3c193c5e",
   "metadata": {},
   "outputs": [
    {
     "name": "stdout",
     "output_type": "stream",
     "text": [
      "<class 'numpy.ndarray'>\n",
      "<class 'numpy.dtypes.Int32DType'>\n",
      "2\n"
     ]
    }
   ],
   "source": [
    "print(type(arr))\n",
    "print(type(arr.dtype))\n",
    "print(arr.ndim)"
   ]
  },
  {
   "cell_type": "code",
   "execution_count": null,
   "id": "90fca7ba-225e-4651-bb9f-f2287d17fa19",
   "metadata": {},
   "outputs": [],
   "source": [
    "import numpy as np      #3d"
   ]
  },
  {
   "cell_type": "code",
   "execution_count": 17,
   "id": "6c234a64-d9b5-4efe-9bb9-4301d3a1130e",
   "metadata": {},
   "outputs": [
    {
     "data": {
      "text/plain": [
       "array([[[ 1,  2,  3],\n",
       "        [ 4,  5,  6]],\n",
       "\n",
       "       [[ 7,  8,  9],\n",
       "        [ 9, 10, 11]]])"
      ]
     },
     "execution_count": 17,
     "metadata": {},
     "output_type": "execute_result"
    }
   ],
   "source": [
    "arr=np.array([[[1,2,3],[4,5,6]],[[7,8,9],[9,10,11]]])\n",
    "arr"
   ]
  },
  {
   "cell_type": "code",
   "execution_count": 18,
   "id": "75317fbc-3225-47de-848f-3de8186a36db",
   "metadata": {},
   "outputs": [
    {
     "name": "stdout",
     "output_type": "stream",
     "text": [
      "[[1 2 3]\n",
      " [4 5 6]]\n",
      "[[ 7  8  9]\n",
      " [ 9 10 11]]\n"
     ]
    }
   ],
   "source": [
    "for i in arr:\n",
    "    print(i)"
   ]
  },
  {
   "cell_type": "code",
   "execution_count": null,
   "id": "b490c067-9568-4c48-a5bb-f77fedcb33b0",
   "metadata": {},
   "outputs": [],
   "source": []
  }
 ],
 "metadata": {
  "kernelspec": {
   "display_name": "Python 3 (ipykernel)",
   "language": "python",
   "name": "python3"
  },
  "language_info": {
   "codemirror_mode": {
    "name": "ipython",
    "version": 3
   },
   "file_extension": ".py",
   "mimetype": "text/x-python",
   "name": "python",
   "nbconvert_exporter": "python",
   "pygments_lexer": "ipython3",
   "version": "3.12.7"
  }
 },
 "nbformat": 4,
 "nbformat_minor": 5
}
