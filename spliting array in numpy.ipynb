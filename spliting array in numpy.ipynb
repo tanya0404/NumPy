{
 "cells": [
  {
   "cell_type": "markdown",
   "id": "15e56208-70f8-4e81-a7d3-fc9198877c22",
   "metadata": {},
   "source": [
    "                                        #SPLITING A 1D ARRAY"
   ]
  },
  {
   "cell_type": "code",
   "execution_count": 1,
   "id": "c98a3ca4-2179-4296-9652-a9358079a269",
   "metadata": {},
   "outputs": [],
   "source": [
    "import numpy as np"
   ]
  },
  {
   "cell_type": "code",
   "execution_count": 2,
   "id": "6519e5be-44b3-4e5c-aea6-c91ce7c1b76f",
   "metadata": {},
   "outputs": [
    {
     "name": "stdout",
     "output_type": "stream",
     "text": [
      "[1 2 3 4 5 6]\n"
     ]
    }
   ],
   "source": [
    "arr=np.array([1,2,3,4,5,6])\n",
    "print(arr)"
   ]
  },
  {
   "cell_type": "code",
   "execution_count": 8,
   "id": "28c90e4f-36a1-4ba5-aa9e-552aab60a037",
   "metadata": {},
   "outputs": [
    {
     "name": "stdout",
     "output_type": "stream",
     "text": [
      "[array([1, 2, 3]), array([4, 5, 6])]\n"
     ]
    }
   ],
   "source": [
    "result=np.array_split(arr,2)      #2 for spliting into two arrays \n",
    "print(result)"
   ]
  },
  {
   "cell_type": "code",
   "execution_count": 9,
   "id": "0b5644d8-9375-4882-855f-817f31c85090",
   "metadata": {},
   "outputs": [
    {
     "name": "stdout",
     "output_type": "stream",
     "text": [
      "[1 2 3]\n",
      "[4 5 6]\n"
     ]
    }
   ],
   "source": [
    "print(result[0])\n",
    "print(result[1])"
   ]
  },
  {
   "cell_type": "markdown",
   "id": "fd341dbc-0ab2-4627-a641-072001224495",
   "metadata": {},
   "source": [
    "                                         #SPLITING A 2D ARRAY"
   ]
  },
  {
   "cell_type": "code",
   "execution_count": 10,
   "id": "a200638f-c8b9-4265-a4b5-ce758122d0f8",
   "metadata": {},
   "outputs": [],
   "source": [
    "import numpy as np"
   ]
  },
  {
   "cell_type": "code",
   "execution_count": 11,
   "id": "c919d28b-6f4c-43ec-b675-1e3b6589bafc",
   "metadata": {},
   "outputs": [
    {
     "name": "stdout",
     "output_type": "stream",
     "text": [
      "[[1 2 3]\n",
      " [4 5 6]]\n"
     ]
    }
   ],
   "source": [
    "arr=np.array([[1,2,3],[4,5,6]])\n",
    "print(arr)"
   ]
  },
  {
   "cell_type": "code",
   "execution_count": 15,
   "id": "50f07ecb-2903-4c9d-8cd6-b369cab71e49",
   "metadata": {},
   "outputs": [
    {
     "name": "stdout",
     "output_type": "stream",
     "text": [
      "[array([[1, 2, 3]]), array([[4, 5, 6]]), array([], shape=(0, 3), dtype=int32)]\n"
     ]
    }
   ],
   "source": [
    "result=np.array_split(arr,3)\n",
    "print(result)"
   ]
  },
  {
   "cell_type": "code",
   "execution_count": null,
   "id": "919f6b12-0508-4a3d-aa0b-cfe0d6dabd5d",
   "metadata": {},
   "outputs": [],
   "source": []
  }
 ],
 "metadata": {
  "kernelspec": {
   "display_name": "Python 3 (ipykernel)",
   "language": "python",
   "name": "python3"
  },
  "language_info": {
   "codemirror_mode": {
    "name": "ipython",
    "version": 3
   },
   "file_extension": ".py",
   "mimetype": "text/x-python",
   "name": "python",
   "nbconvert_exporter": "python",
   "pygments_lexer": "ipython3",
   "version": "3.12.7"
  }
 },
 "nbformat": 4,
 "nbformat_minor": 5
}
